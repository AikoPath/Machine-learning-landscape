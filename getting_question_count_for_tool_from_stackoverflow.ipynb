{
  "nbformat": 4,
  "nbformat_minor": 0,
  "metadata": {
    "colab": {
      "name": "Machine Learning Landscape - getting tag count for tool.ipynb",
      "version": "0.3.2",
      "provenance": []
    },
    "kernelspec": {
      "name": "python3",
      "display_name": "Python 3"
    },
    "accelerator": "GPU"
  },
  "cells": [
    {
      "metadata": {
        "id": "gho9YyyRGVKh",
        "colab_type": "code",
        "colab": {}
      },
      "cell_type": "code",
      "source": [
        "import requests\n",
        "import urllib.parse as urlparse\n",
        "from urllib.parse import urlencode"
      ],
      "execution_count": 0,
      "outputs": []
    },
    {
      "metadata": {
        "id": "UT4kOPiGLZU9",
        "colab_type": "code",
        "colab": {}
      },
      "cell_type": "code",
      "source": [
        "def replace_URL_param(lib_name):\n",
        "  \n",
        "  url = 'https://api.stackexchange.com/2.2/search?order=desc&sort=activity&site=stackoverflow'\n",
        "\n",
        "  filter_to_only_get_total_count = '!GeDDagMb(mX3)'\n",
        "  timestamp_jan_01_2018 = '1514764800'\n",
        "  timestamp_jan_01_2019 = '1546300800'\n",
        "\n",
        "  params = { \n",
        "     'fromdate':timestamp_jan_01_2018,\n",
        "     'todate':timestamp_jan_01_2019,\n",
        "     'tagged':lib_name,\n",
        "     'filter':filter_to_only_get_total_count\n",
        "  }\n",
        "    \n",
        "  query_params_index = 4\n",
        "  \n",
        "  url_parts = list(urlparse.urlparse(url))\n",
        "  query = dict(urlparse.parse_qsl(url_parts[query_params_index]))\n",
        "\n",
        "  query.update(params)\n",
        "\n",
        "  url_parts[query_params_index] = urlencode(query)\n",
        "\n",
        "  return urlparse.urlunparse(url_parts)"
      ],
      "execution_count": 0,
      "outputs": []
    },
    {
      "metadata": {
        "id": "JiVcj4X3G9TS",
        "colab_type": "code",
        "colab": {}
      },
      "cell_type": "code",
      "source": [
        "def get_question_count_for_tool(tool_name):\n",
        "  full_url = replace_URL_param(tool_name.lower())\n",
        "\n",
        "  return requests.get(full_url).json().get('total')\n"
      ],
      "execution_count": 0,
      "outputs": []
    },
    {
      "metadata": {
        "id": "HoJAciODHgOP",
        "colab_type": "code",
        "colab": {}
      },
      "cell_type": "code",
      "source": [
        "deep_learning = ['tensorflow', 'pytorch', 'torch', 'theano', 'caffe', 'caffe2', 'keras', 'cntk', 'Deeplearning4j', 'apache-spark-mllib', 'mxnet', 'Pybrain', 'Shogun', 'Mahout', 'Weka', 'H2o']"
      ],
      "execution_count": 0,
      "outputs": []
    },
    {
      "metadata": {
        "id": "ajqGjXoKVcgm",
        "colab_type": "code",
        "colab": {}
      },
      "cell_type": "code",
      "source": [
        "tools_to_question_count_mapping = dict(zip(deep_learning, [get_question_count_for_tool(tool) for tool in deep_learning]))"
      ],
      "execution_count": 0,
      "outputs": []
    },
    {
      "metadata": {
        "id": "EML6fN1OMwPz",
        "colab_type": "code",
        "colab": {
          "base_uri": "https://localhost:8080/",
          "height": 289
        },
        "outputId": "a1fd25f0-6ceb-42dd-b5ff-a7eaa78608f1"
      },
      "cell_type": "code",
      "source": [
        "sorted_ = sorted(tools_to_question_count_mapping.items(), key=lambda x: x[1])\n",
        "sorted_.reverse()\n",
        "sorted_"
      ],
      "execution_count": 36,
      "outputs": [
        {
          "output_type": "execute_result",
          "data": {
            "text/plain": [
              "[('tensorflow', 17870),\n",
              " ('keras', 7988),\n",
              " ('pytorch', 1544),\n",
              " ('caffe', 540),\n",
              " ('H2o', 518),\n",
              " ('apache-spark-mllib', 390),\n",
              " ('Weka', 288),\n",
              " ('theano', 240),\n",
              " ('mxnet', 167),\n",
              " ('torch', 149),\n",
              " ('cntk', 124),\n",
              " ('Deeplearning4j', 87),\n",
              " ('caffe2', 84),\n",
              " ('Mahout', 26),\n",
              " ('Shogun', 17),\n",
              " ('Pybrain', 9)]"
            ]
          },
          "metadata": {
            "tags": []
          },
          "execution_count": 36
        }
      ]
    }
  ]
}