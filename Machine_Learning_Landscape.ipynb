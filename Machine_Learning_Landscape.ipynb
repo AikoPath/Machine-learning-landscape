{
  "nbformat": 4,
  "nbformat_minor": 0,
  "metadata": {
    "colab": {
      "name": "Machine Learning Landscape.ipynb",
      "version": "0.3.2",
      "provenance": []
    },
    "kernelspec": {
      "name": "python3",
      "display_name": "Python 3"
    },
    "accelerator": "GPU"
  },
  "cells": [
    {
      "metadata": {
        "id": "gho9YyyRGVKh",
        "colab_type": "code",
        "colab": {}
      },
      "cell_type": "code",
      "source": [
        "import requests\n",
        "import urllib.parse as urlparse\n",
        "from urllib.parse import urlencode"
      ],
      "execution_count": 0,
      "outputs": []
    },
    {
      "metadata": {
        "id": "WWoTE7xUtyQN",
        "colab_type": "code",
        "colab": {}
      },
      "cell_type": "code",
      "source": [
        "deep_learning_frameworks = {\n",
        "        'tensorflow': {'github': 'tensorflow/tensorflow', 'comment': ''},\n",
        "        'pytorch': {'github': 'pytorch/pytorch', 'comment': ''},\n",
        "        'torch': {'github': 'torch/torch7', 'comment': ''},\n",
        "        'theano': {'github': 'Theano/Theano', 'comment': ''},\n",
        "        'caffe': {'github': 'BVLC/caffe', 'comment': ''},\n",
        "        'caffe2': {'github': 'facebookarchive/caffe2', 'comment': 'archived, merged with pyTorch'},\n",
        "        'keras': {'github': 'keras-team/keras', 'comment': ''},\n",
        "        'cntk': {'github': 'Microsoft/CNTK', 'comment': ''},\n",
        "        'Deeplearning4j': {'github': 'deeplearning4j/deeplearning4j', 'comment': ''},\n",
        "        'apache-spark-mllib': {'github': 'apache/spark', 'comment': 'full spark repo, not just mllib'},\n",
        "        'mxnet': {'github': 'apache/incubator-mxnet', 'comment': ''},\n",
        "        'Pybrain': {'github': 'pybrain/pybrain', 'comment': ''},\n",
        "        'Shogun': {'github': 'shogun-toolbox/shogun', 'comment': ''},\n",
        "        'Mahout': {'github': 'apache/mahout', 'comment': ''},\n",
        "        'Weka': {'github': 'Waikato/weka-trunk', 'comment': 'Read-only mirror of the offical Weka subversion repository (trunk, aka developer version)'},\n",
        "        'H2o':{'github':'h2oai/h2o-3','comment':''}\n",
        "        }"
      ],
      "execution_count": 0,
      "outputs": []
    },
    {
      "metadata": {
        "id": "FdjafMJheB7r",
        "colab_type": "text"
      },
      "cell_type": "markdown",
      "source": [
        "Define functions to get question count from stackoverflow for a given tool name\n"
      ]
    },
    {
      "metadata": {
        "id": "UT4kOPiGLZU9",
        "colab_type": "code",
        "colab": {}
      },
      "cell_type": "code",
      "source": [
        "def replace_URL_param_in_stackoverflow_url(tool_name):\n",
        "  \n",
        "  url = 'https://api.stackexchange.com/2.2/search?order=desc&sort=activity&site=stackoverflow'\n",
        "\n",
        "  filter_to_only_get_total_count = '!GeDDagMb(mX3)'\n",
        "  timestamp_jan_01_2018 = '1514764800'\n",
        "  timestamp_jan_01_2019 = '1546300800'\n",
        "\n",
        "  params = { \n",
        "     'fromdate':timestamp_jan_01_2018,\n",
        "     'todate':timestamp_jan_01_2019,\n",
        "     'tagged':tool_name,\n",
        "     'filter':filter_to_only_get_total_count\n",
        "  }\n",
        "    \n",
        "  query_params_index = 4\n",
        "  \n",
        "  url_parts = list(urlparse.urlparse(url))\n",
        "  query = dict(urlparse.parse_qsl(url_parts[query_params_index]))\n",
        "\n",
        "  query.update(params)\n",
        "\n",
        "  url_parts[query_params_index] = urlencode(query)\n",
        "\n",
        "  return urlparse.urlunparse(url_parts)\n",
        "\n",
        "def get_question_count_from_stack_overflow(tool_name):\n",
        "  full_url = replace_URL_param_in_stackoverflow_url(tool_name.lower())\n",
        "\n",
        "  return requests.get(full_url).json().get('total')\n"
      ],
      "execution_count": 0,
      "outputs": []
    },
    {
      "metadata": {
        "id": "mbyBMzshvDBT",
        "colab_type": "code",
        "colab": {}
      },
      "cell_type": "code",
      "source": [
        "def add_URL_path_to_github_base_url(github_path):\n",
        "  return 'https://api.github.com/repos/' + github_path\n",
        "  \n",
        "\n",
        "def get_star_count_from_github(tool_name):\n",
        "  full_url = add_URL_path_to_github_base_url(tool_name)\n",
        "  \n",
        "  return requests.get(full_url).json().get('stargazers_count')\n",
        "  \n"
      ],
      "execution_count": 0,
      "outputs": []
    },
    {
      "metadata": {
        "id": "ajqGjXoKVcgm",
        "colab_type": "code",
        "colab": {}
      },
      "cell_type": "code",
      "source": [
        "tools_to_question_count_mapping = dict(zip([tool_name for tool_name in deep_learning_frameworks.keys()], [get_question_count_from_stack_overflow(tool_name) for tool_name in deep_learning_frameworks.keys()]))\n",
        "\n",
        "tools_to_github_star_mapping = dict(zip([tool_name for tool_name in deep_learning_frameworks.keys()], [get_star_count_from_github(tool['github']) for tool_name, tool in deep_learning_frameworks.items()]))\n"
      ],
      "execution_count": 0,
      "outputs": []
    },
    {
      "metadata": {
        "id": "xnlYJ6sDKi4v",
        "colab_type": "code",
        "colab": {}
      },
      "cell_type": "code",
      "source": [
        "def add_field_to_mutable_dicts(dict_, data, field_name):\n",
        "  {dict_.get(key).update({field_name: value}) for key, value in data.items()}\n",
        "  \n",
        "  return dict_  "
      ],
      "execution_count": 0,
      "outputs": []
    },
    {
      "metadata": {
        "id": "3xyqif_ZVJsG",
        "colab_type": "code",
        "colab": {
          "base_uri": "https://localhost:8080/",
          "height": 1105
        },
        "outputId": "41303a74-f0da-4dbc-875f-65b1f0344c7e"
      },
      "cell_type": "code",
      "source": [
        "add_field_to_mutable_dicts(deep_learning_frameworks, tools_to_question_count_mapping, 'stackoverflow_questions')\n",
        "add_field_to_mutable_dicts(deep_learning_frameworks, tools_to_github_star_mapping, 'github_stars')"
      ],
      "execution_count": 7,
      "outputs": [
        {
          "output_type": "execute_result",
          "data": {
            "text/plain": [
              "{'Deeplearning4j': {'comment': '',\n",
              "  'github': 'deeplearning4j/deeplearning4j',\n",
              "  'github_stars': 10297,\n",
              "  'stackoverflow_questions': 87},\n",
              " 'H2o': {'comment': '',\n",
              "  'github': 'h2oai/h2o-3',\n",
              "  'github_stars': 3774,\n",
              "  'stackoverflow_questions': 513},\n",
              " 'Mahout': {'comment': '',\n",
              "  'github': 'apache/mahout',\n",
              "  'github_stars': 1598,\n",
              "  'stackoverflow_questions': 26},\n",
              " 'Pybrain': {'comment': '',\n",
              "  'github': 'pybrain/pybrain',\n",
              "  'github_stars': 2645,\n",
              "  'stackoverflow_questions': 9},\n",
              " 'Shogun': {'comment': '',\n",
              "  'github': 'shogun-toolbox/shogun',\n",
              "  'github_stars': 2308,\n",
              "  'stackoverflow_questions': 17},\n",
              " 'Weka': {'comment': 'Read-only mirror of the offical Weka subversion repository (trunk, aka developer version)',\n",
              "  'github': 'Waikato/weka-trunk',\n",
              "  'github_stars': 41,\n",
              "  'stackoverflow_questions': 285},\n",
              " 'apache-spark-mllib': {'comment': 'full spark repo, not just mllib',\n",
              "  'github': 'apache/spark',\n",
              "  'github_stars': 20464,\n",
              "  'stackoverflow_questions': 388},\n",
              " 'caffe': {'comment': '',\n",
              "  'github': 'BVLC/caffe',\n",
              "  'github_stars': 26960,\n",
              "  'stackoverflow_questions': 533},\n",
              " 'caffe2': {'comment': 'archived, merged with pyTorch',\n",
              "  'github': 'facebookarchive/caffe2',\n",
              "  'github_stars': 8402,\n",
              "  'stackoverflow_questions': 84},\n",
              " 'cntk': {'comment': '',\n",
              "  'github': 'Microsoft/CNTK',\n",
              "  'github_stars': 15743,\n",
              "  'stackoverflow_questions': 123},\n",
              " 'keras': {'comment': '',\n",
              "  'github': 'keras-team/keras',\n",
              "  'github_stars': 37945,\n",
              "  'stackoverflow_questions': 7971},\n",
              " 'mxnet': {'comment': '',\n",
              "  'github': 'apache/incubator-mxnet',\n",
              "  'github_stars': 16283,\n",
              "  'stackoverflow_questions': 167},\n",
              " 'pytorch': {'comment': '',\n",
              "  'github': 'pytorch/pytorch',\n",
              "  'github_stars': 24435,\n",
              "  'stackoverflow_questions': 1542},\n",
              " 'tensorflow': {'comment': '',\n",
              "  'github': 'tensorflow/tensorflow',\n",
              "  'github_stars': 120013,\n",
              "  'stackoverflow_questions': 17795},\n",
              " 'theano': {'comment': '',\n",
              "  'github': 'Theano/Theano',\n",
              "  'github_stars': 8674,\n",
              "  'stackoverflow_questions': 239},\n",
              " 'torch': {'comment': '',\n",
              "  'github': 'torch/torch7',\n",
              "  'github_stars': 8197,\n",
              "  'stackoverflow_questions': 148}}"
            ]
          },
          "metadata": {
            "tags": []
          },
          "execution_count": 7
        }
      ]
    }
  ]
}